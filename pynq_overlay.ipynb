{
 "cells": [
  {
   "cell_type": "code",
   "execution_count": 1,
   "metadata": {},
   "outputs": [
    {
     "data": {
      "application/javascript": [
       "\n",
       "try {\n",
       "require(['notebook/js/codecell'], function(codecell) {\n",
       "  codecell.CodeCell.options_default.highlight_modes[\n",
       "      'magic_text/x-csrc'] = {'reg':[/^%%microblaze/]};\n",
       "  Jupyter.notebook.events.one('kernel_ready.Kernel', function(){\n",
       "      Jupyter.notebook.get_cells().map(function(cell){\n",
       "          if (cell.cell_type == 'code'){ cell.auto_highlight(); } }) ;\n",
       "  });\n",
       "});\n",
       "} catch (e) {};\n"
      ]
     },
     "metadata": {},
     "output_type": "display_data"
    },
    {
     "data": {
      "application/javascript": [
       "\n",
       "try {\n",
       "require(['notebook/js/codecell'], function(codecell) {\n",
       "  codecell.CodeCell.options_default.highlight_modes[\n",
       "      'magic_text/x-csrc'] = {'reg':[/^%%pybind11/]};\n",
       "  Jupyter.notebook.events.one('kernel_ready.Kernel', function(){\n",
       "      Jupyter.notebook.get_cells().map(function(cell){\n",
       "          if (cell.cell_type == 'code'){ cell.auto_highlight(); } }) ;\n",
       "  });\n",
       "});\n",
       "} catch (e) {};\n"
      ]
     },
     "metadata": {},
     "output_type": "display_data"
    }
   ],
   "source": [
    "from pynq import Overlay\n",
    "import pynq.lib.dma\n",
    "from pynq import Xlnk\n",
    "import numpy as np\n",
    "import csv\n",
    "\n",
    "overlay = Overlay(\"design_1_1.bit\")\n"
   ]
  },
  {
   "cell_type": "code",
   "execution_count": 2,
   "metadata": {},
   "outputs": [
    {
     "name": "stdout",
     "output_type": "stream",
     "text": [
      "[0.0, 0.0, 0.0, 0.0, -0.41245085, 0.22516125, 0.11589861, -0.24505067, 0.11002076, 0.35270548, 0.34254587, 0.25924808, 0.46233064, 0.09857297, 0.5462083, -0.47065502, 0.45651585, 0.22438496, 0.37261784, -0.2859464, 0.4596277, -0.15767288, 0.10052121, 0.56076676, -0.37306052, 0.22188687, 0.1600632, 0.56628186, -0.28270358, 0.19605273, -0.112050176, 0.54035777, 0.5763046, -0.07942265, -0.4533295, 0.34143978, -0.548317, -0.46473745, 0.12649375, 0.3921774, 0.037076235, 0.19918841, 0.4153989, -0.2784888, 0.19119453, 0.26479918, 0.48010808, -0.34708562, -0.29913658, -0.3335798, -0.24715337, -0.49087512, 0.0, 0.0, -0.7247691, 0.83424306, 0.6328485, -0.22648072, -0.6241925, -0.67744374, 0.06339741, -0.32233238, 0.0, 0.0, 0.8967639, -0.10948932, 0.52128124, -1.0032749, 0.0, 0.0, 0.7461281, 1.1210271, -0.29533046, 0.08058226, 0.0, 0.0, 0.0, 0.0, 0.7232716, 0.46492887, 0.13727546, -0.85849357, 0.9019425, 0.46246195, 0.14621854, 0.10324836, 0.0, 0.0, 0.0, 0.0, 0.0, 0.0, 0.0, 0.0, 0.0, 0.0, 0.0, 0.0, 0.3269753, 0.43890828, 0.067046404, -0.56078184, -0.58399105, 0.32631463, -0.13297594, 0.29192322, -0.04009962, 0.019395947, -0.42216897, 0.004466176, -0.017748475, 0.32369906, 0.1884147, 0.3623585, 0.028490067, 0.24431056, -0.3389725, 0.3158489, -0.4134146, 0.24954021, -0.3896804, 0.3793466, -0.12653378, 0.068665445, -0.1537418, -0.2737553, -0.24664617, 0.20334506, 0.2744798, -0.011491299, -0.41331136, 0.3331117, 0.123879194, -0.45853123, -0.5610157, 0.23064345, -0.5462209, -0.4053107, 0.22898954, 0.22120225, -0.29297563, -0.49982366, 0.080504954, -0.43193626, 0.15595973, 0.2584715, 1.0, 1.0, 1.0, 1.0, 1.0, 1.0, 1.0, 1.0, 1.0, 1.0, 1.0, 1.0]\n",
      "158\n"
     ]
    }
   ],
   "source": [
    "from pynq import allocate\n",
    "from pynq import Overlay\n",
    "\n",
    "WEIGHTS_01 = 12\n",
    "WEIGHTS_12 = 4\n",
    "WEIGHTS_23 = 2\n",
    "WEIGHTS_34 = 2\n",
    "WEIGHTS_45 = 2\n",
    "WEIGHTS_56 = 4\n",
    "WEIGHTS_67 = 12\n",
    "\n",
    "dma = overlay.axi_dma_1\n",
    "\n",
    "f = open(\"out.csv\", \"r\")\n",
    "\n",
    "weights = f.read().split(',')\n",
    "\n",
    "for i in range(len(weights)):\n",
    "    weights[i] = float(weights[i])\n",
    "\n",
    "input_x = [1.0] * WEIGHTS_67\n",
    "\n",
    "input_list = weights + input_x\n",
    "print(input_list)\n",
    "\n",
    "print(len(input_list))"
   ]
  },
  {
   "cell_type": "code",
   "execution_count": 3,
   "metadata": {},
   "outputs": [],
   "source": [
    "input_buffer = allocate(shape=(158,), dtype=np.float32)\n",
    "for i in range(158):\n",
    "    input_buffer[i] = input_list[i]\n",
    "    \n",
    "res = allocate(shape=(1,), dtype=np.float32)"
   ]
  },
  {
   "cell_type": "code",
   "execution_count": 4,
   "metadata": {},
   "outputs": [
    {
     "name": "stdout",
     "output_type": "stream",
     "text": [
      "-----1.3353824615478516 ms elapsed for transfer-----\n",
      "[0.]\n"
     ]
    }
   ],
   "source": [
    "import time\n",
    "\n",
    "start_time = time.time()\n",
    "\n",
    "dma.sendchannel.transfer(input_buffer)\n",
    "dma.recvchannel.transfer(res)\n",
    "dma.sendchannel.wait()\n",
    "dma.recvchannel.wait()\n",
    "\n",
    "print(\"-----%s ms elapsed for transfer-----\" %(1000*(time.time()-start_time)))\n",
    "\n",
    "print(res)"
   ]
  },
  {
   "cell_type": "code",
   "execution_count": 14,
   "metadata": {},
   "outputs": [],
   "source": [
    "from pynq import Overlay\n",
    "from pynq import allocate\n",
    "import pynq.lib.dma\n",
    "import numpy as np\n",
    "\n",
    "class Model:\n",
    "    def __init__(self, bitfile, paramfile):\n",
    "        self.overlay = Overlay(bitfile)\n",
    "        self.dma = self.overlay.axi_dma_1\n",
    "        \n",
    "        f = open(paramfile, \"r\")\n",
    "        self.params = f.read().split(',')\n",
    "        for i in range(len(self.params)):\n",
    "            self.params[i] = float(self.params[i])\n",
    "        self.numofparams = len(self.params)\n",
    "        \n",
    "        self.input_buffer = allocate(shape=(self.numofparams+12,), dtype=np.float32)\n",
    "        self.res = allocate(shape=(1,), dtype=np.float32)\n",
    "        \n",
    "        \n",
    "    def classify(self, input_x):\n",
    "        for i in range(12):\n",
    "            self.input_buffer[self.numofparams+i] = input_x[i]\n",
    "        self.dma.sendchannel.transfer(self.input_buffer)\n",
    "        self.dma.recvchannel.transfer(self.res)\n",
    "        self.dma.sendchannel.wait()\n",
    "        self.dma.recvchannel.wait()\n",
    "        return int(self.res[0])\n",
    "        "
   ]
  },
  {
   "cell_type": "code",
   "execution_count": 15,
   "metadata": {},
   "outputs": [
    {
     "data": {
      "text/plain": [
       "0"
      ]
     },
     "execution_count": 15,
     "metadata": {},
     "output_type": "execute_result"
    }
   ],
   "source": [
    "# Sample of using the Model class above\n",
    "mlp = Model(\"design_1_1.bit\", \"out.csv\")\n",
    "# fake input here, shld be a list with 12 floats\n",
    "input_x = [12.0] * 12\n",
    "# classify function will return a class index (integer) with highest probability\n",
    "mlp.classify(input_x)\n"
   ]
  },
  {
   "cell_type": "code",
   "execution_count": 16,
   "metadata": {},
   "outputs": [
    {
     "name": "stdout",
     "output_type": "stream",
     "text": [
      "-----1.3358592987060547 ms elapsed for transfer-----\n",
      "[0.]\n"
     ]
    }
   ],
   "source": []
  },
  {
   "cell_type": "code",
   "execution_count": 2,
   "metadata": {},
   "outputs": [
    {
     "ename": "ModuleNotFoundError",
     "evalue": "No module named 'tensorflow'",
     "output_type": "error",
     "traceback": [
      "\u001b[0;31m---------------------------------------------------------------------------\u001b[0m",
      "\u001b[0;31mModuleNotFoundError\u001b[0m                       Traceback (most recent call last)",
      "\u001b[0;32m<ipython-input-2-b38dd7a4f17b>\u001b[0m in \u001b[0;36m<module>\u001b[0;34m()\u001b[0m\n\u001b[0;32m----> 1\u001b[0;31m \u001b[0;32mimport\u001b[0m \u001b[0mtensorflow\u001b[0m \u001b[0;32mas\u001b[0m \u001b[0mtf\u001b[0m\u001b[0;34m\u001b[0m\u001b[0m\n\u001b[0m\u001b[1;32m      2\u001b[0m \u001b[0;32mimport\u001b[0m \u001b[0mkeras\u001b[0m\u001b[0;34m\u001b[0m\u001b[0m\n\u001b[1;32m      3\u001b[0m \u001b[0;32mfrom\u001b[0m \u001b[0mkeras\u001b[0m\u001b[0;34m.\u001b[0m\u001b[0mmodels\u001b[0m \u001b[0;32mimport\u001b[0m \u001b[0mModel\u001b[0m\u001b[0;34m,\u001b[0m \u001b[0mload_model\u001b[0m\u001b[0;34m\u001b[0m\u001b[0m\n\u001b[1;32m      4\u001b[0m \u001b[0;32mfrom\u001b[0m \u001b[0mkeras\u001b[0m\u001b[0;34m.\u001b[0m\u001b[0mlayers\u001b[0m \u001b[0;32mimport\u001b[0m \u001b[0mInput\u001b[0m\u001b[0;34m,\u001b[0m \u001b[0mDense\u001b[0m\u001b[0;34m\u001b[0m\u001b[0m\n\u001b[1;32m      5\u001b[0m \u001b[0;32mfrom\u001b[0m \u001b[0mkeras\u001b[0m\u001b[0;34m.\u001b[0m\u001b[0mcallbacks\u001b[0m \u001b[0;32mimport\u001b[0m \u001b[0mModelCheckpoint\u001b[0m\u001b[0;34m,\u001b[0m \u001b[0mTensorBoard\u001b[0m\u001b[0;34m\u001b[0m\u001b[0m\n",
      "\u001b[0;31mModuleNotFoundError\u001b[0m: No module named 'tensorflow'"
     ]
    }
   ],
   "source": []
  },
  {
   "cell_type": "code",
   "execution_count": null,
   "metadata": {},
   "outputs": [],
   "source": []
  }
 ],
 "metadata": {
  "kernelspec": {
   "display_name": "Python 3",
   "language": "python",
   "name": "python3"
  },
  "language_info": {
   "codemirror_mode": {
    "name": "ipython",
    "version": 3
   },
   "file_extension": ".py",
   "mimetype": "text/x-python",
   "name": "python",
   "nbconvert_exporter": "python",
   "pygments_lexer": "ipython3",
   "version": "3.6.5"
  }
 },
 "nbformat": 4,
 "nbformat_minor": 2
}
