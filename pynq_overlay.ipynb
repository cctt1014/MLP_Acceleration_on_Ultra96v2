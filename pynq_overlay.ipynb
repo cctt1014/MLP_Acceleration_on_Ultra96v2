{
 "cells": [
  {
   "cell_type": "code",
   "execution_count": 1,
   "metadata": {},
   "outputs": [
    {
     "data": {
      "application/javascript": [
       "\n",
       "try {\n",
       "require(['notebook/js/codecell'], function(codecell) {\n",
       "  codecell.CodeCell.options_default.highlight_modes[\n",
       "      'magic_text/x-csrc'] = {'reg':[/^%%microblaze/]};\n",
       "  Jupyter.notebook.events.one('kernel_ready.Kernel', function(){\n",
       "      Jupyter.notebook.get_cells().map(function(cell){\n",
       "          if (cell.cell_type == 'code'){ cell.auto_highlight(); } }) ;\n",
       "  });\n",
       "});\n",
       "} catch (e) {};\n"
      ]
     },
     "metadata": {},
     "output_type": "display_data"
    },
    {
     "data": {
      "application/javascript": [
       "\n",
       "try {\n",
       "require(['notebook/js/codecell'], function(codecell) {\n",
       "  codecell.CodeCell.options_default.highlight_modes[\n",
       "      'magic_text/x-csrc'] = {'reg':[/^%%pybind11/]};\n",
       "  Jupyter.notebook.events.one('kernel_ready.Kernel', function(){\n",
       "      Jupyter.notebook.get_cells().map(function(cell){\n",
       "          if (cell.cell_type == 'code'){ cell.auto_highlight(); } }) ;\n",
       "  });\n",
       "});\n",
       "} catch (e) {};\n"
      ]
     },
     "metadata": {},
     "output_type": "display_data"
    }
   ],
   "source": [
    "from pynq import Overlay\n",
    "import pynq.lib.dma\n",
    "from pynq import Xlnk\n",
    "import numpy as np\n",
    "import csv\n",
    "\n",
    "\n",
    "\n",
    "overlay = Overlay(\"design_1_1.bit\")\n"
   ]
  },
  {
   "cell_type": "code",
   "execution_count": 13,
   "metadata": {},
   "outputs": [
    {
     "name": "stdout",
     "output_type": "stream",
     "text": [
      "[0.0, 0.0, 0.0, 0.0, -0.41245085, 0.22516125, 0.11589861, -0.24505067, 0.11002076, 0.35270548, 0.34254587, 0.25924808, 0.46233064, 0.09857297, 0.5462083, -0.47065502, 0.45651585, 0.22438496, 0.37261784, -0.2859464, 0.4596277, -0.15767288, 0.10052121, 0.56076676, -0.37306052, 0.22188687, 0.1600632, 0.56628186, -0.28270358, 0.19605273, -0.112050176, 0.54035777, 0.5763046, -0.07942265, -0.4533295, 0.34143978, -0.548317, -0.46473745, 0.12649375, 0.3921774, 0.037076235, 0.19918841, 0.4153989, -0.2784888, 0.19119453, 0.26479918, 0.48010808, -0.34708562, -0.29913658, -0.3335798, -0.24715337, -0.49087512, 0.0, 0.0, -0.7247691, 0.83424306, 0.6328485, -0.22648072, -0.6241925, -0.67744374, 0.06339741, -0.32233238, 0.0, 0.0, 0.8967639, -0.10948932, 0.52128124, -1.0032749, 0.0, 0.0, 0.7461281, 1.1210271, -0.29533046, 0.08058226, 0.0, 0.0, 0.0, 0.0, 0.7232716, 0.46492887, 0.13727546, -0.85849357, 0.9019425, 0.46246195, 0.14621854, 0.10324836, 0.0, 0.0, 0.0, 0.0, 0.0, 0.0, 0.0, 0.0, 0.0, 0.0, 0.0, 0.0, 0.3269753, 0.43890828, 0.067046404, -0.56078184, -0.58399105, 0.32631463, -0.13297594, 0.29192322, -0.04009962, 0.019395947, -0.42216897, 0.004466176, -0.017748475, 0.32369906, 0.1884147, 0.3623585, 0.028490067, 0.24431056, -0.3389725, 0.3158489, -0.4134146, 0.24954021, -0.3896804, 0.3793466, -0.12653378, 0.068665445, -0.1537418, -0.2737553, -0.24664617, 0.20334506, 0.2744798, -0.011491299, -0.41331136, 0.3331117, 0.123879194, -0.45853123, -0.5610157, 0.23064345, -0.5462209, -0.4053107, 0.22898954, 0.22120225, -0.29297563, -0.49982366, 0.080504954, -0.43193626, 0.15595973, 0.2584715, 1.0, 1.0, 1.0, 1.0, 1.0, 1.0, 1.0, 1.0, 1.0, 1.0, 1.0, 1.0]\n",
      "158\n"
     ]
    }
   ],
   "source": [
    "from pynq import allocate\n",
    "from pynq import Overlay\n",
    "\n",
    "WEIGHTS_01 = 12\n",
    "WEIGHTS_12 = 4\n",
    "WEIGHTS_23 = 2\n",
    "WEIGHTS_34 = 2\n",
    "WEIGHTS_45 = 2\n",
    "WEIGHTS_56 = 4\n",
    "WEIGHTS_67 = 12\n",
    "\n",
    "dma = overlay.axi_dma_1\n",
    "\n",
    "f = open(\"out.csv\", \"r\")\n",
    "\n",
    "weights = f.read().split(',')\n",
    "\n",
    "for i in range(len(weights)):\n",
    "    weights[i] = float(weights[i])\n",
    "\n",
    "input_x = [1.0] * WEIGHTS_67\n",
    "\n",
    "input_list = weights + input_x\n",
    "print(input_list)\n",
    "\n",
    "print(len(input_list))"
   ]
  },
  {
   "cell_type": "code",
   "execution_count": 14,
   "metadata": {},
   "outputs": [],
   "source": [
    "\n",
    "\n",
    "# b1 = allocate(shape=(WEIGHTS_12,), dtype=np.float32)\n",
    "# for i in range(WEIGHTS_12):\n",
    "#    b1[i] = 0.0\n",
    "# b2 = allocate(shape=(WEIGHTS_23,), dtype=np.float32)\n",
    "# for i in range(WEIGHTS_23):\n",
    "#    b2[i] = 0.0\n",
    "# b3 = allocate(shape=(WEIGHTS_34,), dtype=np.float32)\n",
    "# for i in range(WEIGHTS_34):\n",
    "#    b3[i] = 0.0\n",
    "# b4 = allocate(shape=(WEIGHTS_45,), dtype=np.float32)\n",
    "# for i in range(WEIGHTS_45):\n",
    "#    b4[i] = 0.0\n",
    "# b5 = allocate(shape=(WEIGHTS_56,), dtype=np.float32)\n",
    "# for i in range(WEIGHTS_56):\n",
    "#    b5[i] = 0.0\n",
    "# b6 = allocate(shape=(WEIGHTS_67,), dtype=np.float32)\n",
    "# for i in range(WEIGHTS_67):\n",
    "#    b6[i] = 0.0\n",
    "\n",
    "\n",
    "# w1 = allocate(shape=(WEIGHTS_01*WEIGHTS_12,), dtype=np.float32)\n",
    "# w1_arr = [-0.41245085,0.22516125,0.11589861,-0.24505067,\n",
    "#       0.11002076,0.35270548,0.34254587,0.25924808,\n",
    "#        0.46233064,0.09857297,0.5462083,-0.47065502,\n",
    "#        0.45651585,0.22438496,0.37261784,-0.2859464,\n",
    "#        0.4596277,-0.15767288,0.10052121,0.56076676,\n",
    "#       -0.37306052,0.22188687,0.1600632,0.56628186,\n",
    "#       -0.28270358,0.19605273,-0.11205018,0.54035777,\n",
    "#        0.5763046,-0.07942265,-0.4533295,0.34143978,\n",
    "#       -0.548317,-0.46473745,0.12649375,0.3921774,\n",
    "#        0.03707623,0.19918841,0.4153989,-0.2784888,\n",
    "#        0.19119453,0.26479918,0.48010808,-0.34708562,\n",
    "#       -0.29913658,-0.3335798,-0.24715337,-0.49087512]\n",
    "# # for i in range(WEIGHTS_01):\n",
    "# #     for j in range(WEIGHTS_12):\n",
    "# #         w1[(i+1)*j] = w1_arr[i][j]\n",
    "\n",
    "# w2 = allocate(shape=(WEIGHTS_12*WEIGHTS_23,), dtype=np.float32)\n",
    "# w2_arr = [-0.7247691,0.83424306,\n",
    "#            0.6328485,-0.22648072,\n",
    "#           -0.6241925,-0.67744374,\n",
    "#            0.06339741,-0.32233238]\n",
    "# # for i in range(WEIGHTS_12):\n",
    "# #     for j in range(WEIGHTS_23):\n",
    "# #         w2[(i+1)*j] = w2_arr[i][j]\n",
    "\n",
    "# w3 = allocate(shape=(WEIGHTS_23*WEIGHTS_34,), dtype=np.float32)\n",
    "# w3_arr = [ 0.8967639,-0.10948932,\n",
    "#            0.52128124,-1.0032749]\n",
    "# # for i in range(WEIGHTS_23):\n",
    "# #     for j in range(WEIGHTS_34):\n",
    "# #         w3[(i+1)*j] = w3_arr[i][j]\n",
    "\n",
    "# w4 = allocate(shape=(WEIGHTS_34*WEIGHTS_45,), dtype=np.float32)\n",
    "# w4_arr = [0.7461281,1.1210271,\n",
    "#           -0.29533046,0.08058226]\n",
    "# # for i in range(WEIGHTS_34):\n",
    "# #     for j in range(WEIGHTS_45):\n",
    "# #         w4[(i+1)*j] = w4_arr[i][j]\n",
    "        \n",
    "# w5 = allocate(shape=(WEIGHTS_45*WEIGHTS_56,), dtype=np.float32)\n",
    "# w5_arr = [0.7232716,0.46492887,0.13727546,-0.85849357,\n",
    "#           0.9019425,0.46246195,0.14621854,0.10324836]\n",
    "# # for i in range(WEIGHTS_45):\n",
    "# #     for j in range(WEIGHTS_56):\n",
    "# #         w5[(i+1)*j] = w5_arr[i][j]\n",
    "        \n",
    "# w6 = allocate(shape=(WEIGHTS_56*WEIGHTS_67,), dtype=np.float32)\n",
    "# w6_arr = [0.3269753,0.43890828,0.0670464,-0.56078184,-0.58399105,0.32631463,-0.13297594,0.29192322,-0.04009962,0.01939595,-0.42216897,0.00446618,\n",
    "#           -0.01774848,0.32369906,0.1884147,0.3623585,0.02849007,0.24431056,-0.3389725,0.3158489,-0.4134146,0.24954021,-0.3896804,0.3793466,\n",
    "#           -0.12653378,0.06866544,-0.1537418,-0.2737553,-0.24664617,0.20334506,0.2744798,-0.0114913,-0.41331136,0.3331117,0.12387919,-0.45853123,\n",
    "#           -0.5610157,0.23064345,-0.5462209,-0.4053107,0.22898954,0.22120225,-0.29297563,-0.49982366,0.08050495,-0.43193626,0.15595973,0.2584715]\n",
    "\n",
    "# # for i in range(WEIGHTS_56):\n",
    "# #     for j in range(WEIGHTS_67):\n",
    "# #         w6[(i+1)*j] = w6_arr[i][j]\n",
    "\n",
    "        \n",
    "# # dummy input\n",
    "# in_x = [1.0] * WEIGHTS_67\n",
    "\n",
    "# # input_list = (WEIGHTS_12*[0.0]+w1_arr)+(WEIGHTS_23*[0.0]+w2_arr)+(WEIGHTS_34*[0.0]+w3_arr)+(WEIGHTS_45*[0.0]+w4_arr)+(WEIGHTS_56*[0.0]+w5_arr)+(WEIGHTS_67*[0.0]+w6_arr)+in_x\n",
    "# input_list = [0.0,0.0,0.0,0.0,-0.41245085,0.22516125,0.11589861,-0.24505067,\n",
    "#       0.11002076,0.35270548,0.34254587,0.25924808,\n",
    "#        0.46233064,0.09857297,0.5462083,-0.47065502,\n",
    "#        0.45651585,0.22438496,0.37261784,-0.2859464,\n",
    "#        0.4596277,-0.15767288,0.10052121,0.56076676,\n",
    "#       -0.37306052,0.22188687,0.1600632,0.56628186,\n",
    "#       -0.28270358,0.19605273,-0.11205018,0.54035777,\n",
    "#        0.5763046,-0.07942265,-0.4533295,0.34143978,\n",
    "#       -0.548317,-0.46473745,0.12649375,0.3921774,\n",
    "#        0.03707623,0.19918841,0.4153989,-0.2784888,\n",
    "#        0.19119453,0.26479918,0.48010808,-0.34708562,\n",
    "#       -0.29913658,-0.3335798,-0.24715337,-0.49087512,\n",
    "#              0.0,0.0,-0.7247691,0.83424306,\n",
    "#            0.6328485,-0.22648072,\n",
    "#           -0.6241925,-0.67744374,\n",
    "#            0.06339741,-0.32233238,\n",
    "#              0.0,0.0,0.8967639,-0.10948932,\n",
    "#            0.52128124,-1.0032749,\n",
    "#              0.0,0.0,0.7461281,1.1210271,\n",
    "#           -0.29533046,0.08058226,\n",
    "#              0.0,0.0,0.0,0.0,0.7232716,0.46492887,0.13727546,-0.85849357,\n",
    "#           0.9019425,0.46246195,0.14621854,0.10324836,\n",
    "#              0.0,0.0,0.0,0.0,0.0,0.0,0.0,0.0,0.0,0.0,0.0,0.0,0.3269753,0.43890828,0.0670464,-0.56078184,-0.58399105,0.32631463,-0.13297594,0.29192322,-0.04009962,0.01939595,-0.42216897,0.00446618,\n",
    "#           -0.01774848,0.32369906,0.1884147,0.3623585,0.02849007,0.24431056,-0.3389725,0.3158489,-0.4134146,0.24954021,-0.3896804,0.3793466,\n",
    "#           -0.12653378,0.06866544,-0.1537418,-0.2737553,-0.24664617,0.20334506,0.2744798,-0.0114913,-0.41331136,0.3331117,0.12387919,-0.45853123,\n",
    "#           -0.5610157,0.23064345,-0.5462209,-0.4053107,0.22898954,0.22120225,-0.29297563,-0.49982366,0.08050495,-0.43193626,0.15595973,0.2584715,\n",
    "#              12.0,0.0,21.0,3.0,0.0,0.0,0.0,4.0,0.34,0.435,11.0,34.0]\n",
    "# print(len(input_list))\n",
    "\n",
    "\n",
    "\n",
    "\n"
   ]
  },
  {
   "cell_type": "code",
   "execution_count": null,
   "metadata": {},
   "outputs": [],
   "source": []
  },
  {
   "cell_type": "code",
   "execution_count": null,
   "metadata": {},
   "outputs": [],
   "source": []
  },
  {
   "cell_type": "code",
   "execution_count": 15,
   "metadata": {},
   "outputs": [],
   "source": [
    "input_buffer = allocate(shape=(158,), dtype=np.float32)\n",
    "for i in range(158):\n",
    "    input_buffer[i] = input_list[i]\n",
    "    \n",
    "res = allocate(shape=(1,), dtype=np.float32)"
   ]
  },
  {
   "cell_type": "code",
   "execution_count": 16,
   "metadata": {},
   "outputs": [
    {
     "name": "stdout",
     "output_type": "stream",
     "text": [
      "-----1.3358592987060547 ms elapsed for transfer-----\n",
      "[0.]\n"
     ]
    }
   ],
   "source": [
    "import time\n",
    "\n",
    "start_time = time.time()\n",
    "\n",
    "dma.sendchannel.transfer(input_buffer)\n",
    "dma.recvchannel.transfer(res)\n",
    "dma.sendchannel.wait()\n",
    "dma.recvchannel.wait()\n",
    "\n",
    "print(\"-----%s ms elapsed for transfer-----\" %(1000*(time.time()-start_time)))\n",
    "\n",
    "print(res)"
   ]
  },
  {
   "cell_type": "code",
   "execution_count": 2,
   "metadata": {},
   "outputs": [
    {
     "ename": "ModuleNotFoundError",
     "evalue": "No module named 'tensorflow'",
     "output_type": "error",
     "traceback": [
      "\u001b[0;31m---------------------------------------------------------------------------\u001b[0m",
      "\u001b[0;31mModuleNotFoundError\u001b[0m                       Traceback (most recent call last)",
      "\u001b[0;32m<ipython-input-2-b38dd7a4f17b>\u001b[0m in \u001b[0;36m<module>\u001b[0;34m()\u001b[0m\n\u001b[0;32m----> 1\u001b[0;31m \u001b[0;32mimport\u001b[0m \u001b[0mtensorflow\u001b[0m \u001b[0;32mas\u001b[0m \u001b[0mtf\u001b[0m\u001b[0;34m\u001b[0m\u001b[0m\n\u001b[0m\u001b[1;32m      2\u001b[0m \u001b[0;32mimport\u001b[0m \u001b[0mkeras\u001b[0m\u001b[0;34m\u001b[0m\u001b[0m\n\u001b[1;32m      3\u001b[0m \u001b[0;32mfrom\u001b[0m \u001b[0mkeras\u001b[0m\u001b[0;34m.\u001b[0m\u001b[0mmodels\u001b[0m \u001b[0;32mimport\u001b[0m \u001b[0mModel\u001b[0m\u001b[0;34m,\u001b[0m \u001b[0mload_model\u001b[0m\u001b[0;34m\u001b[0m\u001b[0m\n\u001b[1;32m      4\u001b[0m \u001b[0;32mfrom\u001b[0m \u001b[0mkeras\u001b[0m\u001b[0;34m.\u001b[0m\u001b[0mlayers\u001b[0m \u001b[0;32mimport\u001b[0m \u001b[0mInput\u001b[0m\u001b[0;34m,\u001b[0m \u001b[0mDense\u001b[0m\u001b[0;34m\u001b[0m\u001b[0m\n\u001b[1;32m      5\u001b[0m \u001b[0;32mfrom\u001b[0m \u001b[0mkeras\u001b[0m\u001b[0;34m.\u001b[0m\u001b[0mcallbacks\u001b[0m \u001b[0;32mimport\u001b[0m \u001b[0mModelCheckpoint\u001b[0m\u001b[0;34m,\u001b[0m \u001b[0mTensorBoard\u001b[0m\u001b[0;34m\u001b[0m\u001b[0m\n",
      "\u001b[0;31mModuleNotFoundError\u001b[0m: No module named 'tensorflow'"
     ]
    }
   ],
   "source": [
    "import tensorflow as tf\n",
    "import keras\n",
    "from keras.models import Model, load_model\n",
    "from keras.layers import Input, Dense\n",
    "from keras.callbacks import ModelCheckpoint, TensorBoard\n",
    "from keras import regularizers\n",
    "import datetime"
   ]
  },
  {
   "cell_type": "code",
   "execution_count": null,
   "metadata": {},
   "outputs": [],
   "source": []
  }
 ],
 "metadata": {
  "kernelspec": {
   "display_name": "Python 3",
   "language": "python",
   "name": "python3"
  },
  "language_info": {
   "codemirror_mode": {
    "name": "ipython",
    "version": 3
   },
   "file_extension": ".py",
   "mimetype": "text/x-python",
   "name": "python",
   "nbconvert_exporter": "python",
   "pygments_lexer": "ipython3",
   "version": "3.6.5"
  }
 },
 "nbformat": 4,
 "nbformat_minor": 2
}
