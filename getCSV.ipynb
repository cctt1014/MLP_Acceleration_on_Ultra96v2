{
 "cells": [
  {
   "cell_type": "code",
   "execution_count": 1,
   "metadata": {
    "scrolled": true
   },
   "outputs": [
    {
     "name": "stderr",
     "output_type": "stream",
     "text": [
      "/usr/lib/python3/dist-packages/h5py/__init__.py:36: FutureWarning: Conversion of the second argument of issubdtype from `float` to `np.floating` is deprecated. In future, it will be treated as `np.float64 == np.dtype(float).type`.\n",
      "  from ._conv import register_converters as _register_converters\n"
     ]
    },
    {
     "name": "stdout",
     "output_type": "stream",
     "text": [
      "[0.0, 0.0, 0.0, 0.0, -0.41245085, 0.22516125, 0.11589861, -0.24505067, 0.11002076, 0.35270548, 0.34254587, 0.25924808, 0.46233064, 0.09857297, 0.5462083, -0.47065502, 0.45651585, 0.22438496, 0.37261784, -0.2859464, 0.4596277, -0.15767288, 0.10052121, 0.56076676, -0.37306052, 0.22188687, 0.1600632, 0.56628186, -0.28270358, 0.19605273, -0.112050176, 0.54035777, 0.5763046, -0.07942265, -0.4533295, 0.34143978, -0.548317, -0.46473745, 0.12649375, 0.3921774, 0.037076235, 0.19918841, 0.4153989, -0.2784888, 0.19119453, 0.26479918, 0.48010808, -0.34708562, -0.29913658, -0.3335798, -0.24715337, -0.49087512, 0.0, 0.0, -0.7247691, 0.83424306, 0.6328485, -0.22648072, -0.6241925, -0.67744374, 0.06339741, -0.32233238, 0.0, 0.0, 0.8967639, -0.10948932, 0.52128124, -1.0032749, 0.0, 0.0, 0.7461281, 1.1210271, -0.29533046, 0.08058226, 0.0, 0.0, 0.0, 0.0, 0.7232716, 0.46492887, 0.13727546, -0.85849357, 0.9019425, 0.46246195, 0.14621854, 0.10324836, 0.0, 0.0, 0.0, 0.0, 0.0, 0.0, 0.0, 0.0, 0.0, 0.0, 0.0, 0.0, 0.3269753, 0.43890828, 0.067046404, -0.56078184, -0.58399105, 0.32631463, -0.13297594, 0.29192322, -0.04009962, 0.019395947, -0.42216897, 0.004466176, -0.017748475, 0.32369906, 0.1884147, 0.3623585, 0.028490067, 0.24431056, -0.3389725, 0.3158489, -0.4134146, 0.24954021, -0.3896804, 0.3793466, -0.12653378, 0.068665445, -0.1537418, -0.2737553, -0.24664617, 0.20334506, 0.2744798, -0.011491299, -0.41331136, 0.3331117, 0.123879194, -0.45853123, -0.5610157, 0.23064345, -0.5462209, -0.4053107, 0.22898954, 0.22120225, -0.29297563, -0.49982366, 0.080504954, -0.43193626, 0.15595973, 0.2584715]\n"
     ]
    }
   ],
   "source": [
    "import h5py as h5\n",
    "import numpy as np\n",
    "import matplotlib.pyplot as plt\n",
    "import pandas as pd\n",
    "\n",
    "# Read H5 file\n",
    "f = h5.File(\"test_model.h5\", \"r\")\n",
    "# Get and print list of datasets within the H5 file\n",
    "datasetNames = list(f.keys())\n",
    "content = []\n",
    "\n",
    "for k1 in f:\n",
    "    for k2 in f[k1].keys():\n",
    "        for k3 in f[k1][k2].keys():  \n",
    "            for k4 in f[k1][k2][k3].keys():\n",
    "                data = list(f[k1][k2][k3][k4])\n",
    "                length = len(data)\n",
    "                \n",
    "                if (isinstance(data[0], np.float32)):\n",
    "#                     print(k4)\n",
    "                    for i in range(length):\n",
    "                        content.append(data[i]) \n",
    "                else:\n",
    "                    for i in range(length):\n",
    "                        sub_length = len(data[i])\n",
    "                        sub_data = data[i]\n",
    "                        for j in range(sub_length):\n",
    "#                             print(sub_data[j])\n",
    "                            content.append(sub_data[j])\n",
    "                    \n",
    "                \n",
    "print(content)\n",
    "                \n",
    "\n",
    "        \n"
   ]
  },
  {
   "cell_type": "code",
   "execution_count": 42,
   "metadata": {},
   "outputs": [],
   "source": [
    "np.savetxt(\"temp.csv\", content, '%s', newline=',')"
   ]
  },
  {
   "cell_type": "code",
   "execution_count": null,
   "metadata": {},
   "outputs": [],
   "source": [
    "import csv\n",
    "\n",
    "WEIGHTS_01 = 12\n",
    "WEIGHTS_12 = 4\n",
    "WEIGHTS_23 = 2\n",
    "WEIGHTS_34 = 2\n",
    "WEIGHTS_45 = 2\n",
    "WEIGHTS_56 = 4\n",
    "WEIGHTS_67 = 12\n",
    "\n",
    "\n",
    "\n",
    "\n"
   ]
  },
  {
   "cell_type": "code",
   "execution_count": null,
   "metadata": {},
   "outputs": [],
   "source": []
  },
  {
   "cell_type": "code",
   "execution_count": null,
   "metadata": {},
   "outputs": [],
   "source": []
  }
 ],
 "metadata": {
  "kernelspec": {
   "display_name": "Python 3",
   "language": "python",
   "name": "python3"
  },
  "language_info": {
   "codemirror_mode": {
    "name": "ipython",
    "version": 3
   },
   "file_extension": ".py",
   "mimetype": "text/x-python",
   "name": "python",
   "nbconvert_exporter": "python",
   "pygments_lexer": "ipython3",
   "version": "3.6.5"
  }
 },
 "nbformat": 4,
 "nbformat_minor": 2
}
