{
 "cells": [
  {
   "cell_type": "code",
   "execution_count": 3,
   "metadata": {
    "scrolled": true
   },
   "outputs": [
    {
     "ename": "ModuleNotFoundError",
     "evalue": "No module named 'h5py'",
     "output_type": "error",
     "traceback": [
      "\u001b[0;31m---------------------------------------------------------------------------\u001b[0m",
      "\u001b[0;31mModuleNotFoundError\u001b[0m                       Traceback (most recent call last)",
      "\u001b[0;32m<ipython-input-3-ae1e387dd261>\u001b[0m in \u001b[0;36m<module>\u001b[0;34m()\u001b[0m\n\u001b[0;32m----> 1\u001b[0;31m \u001b[0;32mimport\u001b[0m \u001b[0mh5py\u001b[0m \u001b[0;32mas\u001b[0m \u001b[0mh5\u001b[0m\u001b[0;34m\u001b[0m\u001b[0m\n\u001b[0m\u001b[1;32m      2\u001b[0m \u001b[0;32mimport\u001b[0m \u001b[0mnumpy\u001b[0m \u001b[0;32mas\u001b[0m \u001b[0mnp\u001b[0m\u001b[0;34m\u001b[0m\u001b[0m\n\u001b[1;32m      3\u001b[0m \u001b[0;32mimport\u001b[0m \u001b[0mmatplotlib\u001b[0m\u001b[0;34m.\u001b[0m\u001b[0mpyplot\u001b[0m \u001b[0;32mas\u001b[0m \u001b[0mplt\u001b[0m\u001b[0;34m\u001b[0m\u001b[0m\n\u001b[1;32m      4\u001b[0m \u001b[0;32mimport\u001b[0m \u001b[0mpandas\u001b[0m \u001b[0;32mas\u001b[0m \u001b[0mpd\u001b[0m\u001b[0;34m\u001b[0m\u001b[0m\n\u001b[1;32m      5\u001b[0m \u001b[0;34m\u001b[0m\u001b[0m\n",
      "\u001b[0;31mModuleNotFoundError\u001b[0m: No module named 'h5py'"
     ]
    }
   ],
   "source": [
    "import h5py as h5\n",
    "import numpy as np\n",
    "import matplotlib.pyplot as plt\n",
    "import pandas as pd\n",
    "\n",
    "# Read H5 file\n",
    "f = h5.File(\"MLPmodel_1hand_nofeature.h5\", \"r\")\n",
    "# Get and print list of datasets within the H5 file\n",
    "datasetNames = list(f.keys())\n",
    "\n",
    "content = []\n",
    "\n",
    "for k1 in f:\n",
    "    print(k1)\n",
    "    for k2 in f[k1].keys():\n",
    "        print(k2)\n",
    "        for k3 in f[k1][k2].keys():  \n",
    "            print(k3)\n",
    "            \n",
    "            data = list(f[k1][k2][k3])\n",
    "            length = len(data)\n",
    "            print(f[k1][k2][k3].value.shape)\n",
    "#             if not (isinstance(data[0], np.float32)):\n",
    "#                 for i in range(length):\n",
    "#                     data[i] = list(data[i])\n",
    "#             content.append(data) \n",
    "\n",
    "            if (isinstance(data[0], np.float32)):\n",
    "                for i in range(length):\n",
    "                    content.append(data[i]) \n",
    "            else:\n",
    "                for i in range(length):\n",
    "                    sub_length = len(data[i])\n",
    "                    sub_data = data[i]\n",
    "                    for j in range(sub_length):\n",
    "#                         print(sub_data[j])\n",
    "                        content.append(sub_data[j])\n",
    "                    \n",
    "                \n",
    "print(\"Total length: \")\n",
    "print((content))\n",
    "print(type(content[1]))\n",
    "\n",
    "data = {'params': content}\n",
    "                \n",
    "\n",
    "        \n"
   ]
  },
  {
   "cell_type": "code",
   "execution_count": 6,
   "metadata": {},
   "outputs": [],
   "source": [
    "np.savetxt(\"mlpv3.csv\", content, '%s', newline=',')\n",
    "# df = pd.DataFrame(data)\n",
    "# df.to_csv('mlpv2.csv',index=False)"
   ]
  },
  {
   "cell_type": "code",
   "execution_count": 9,
   "metadata": {},
   "outputs": [
    {
     "name": "stdout",
     "output_type": "stream",
     "text": [
      "quant_dense_255\n",
      "dense_255\n",
      "bias:0\n",
      "type:  <class 'str'>\n",
      "150\n",
      "kernel:0\n",
      "type:  <class 'str'>\n",
      "30\n",
      "quant_dense_255\n",
      "kernel_max:0\n",
      "type:  <class 'str'>\n"
     ]
    },
    {
     "ename": "TypeError",
     "evalue": "Can't iterate over a scalar dataset",
     "output_type": "error",
     "traceback": [
      "\u001b[0;31m---------------------------------------------------------------------------\u001b[0m",
      "\u001b[0;31mTypeError\u001b[0m                                 Traceback (most recent call last)",
      "\u001b[0;32m<ipython-input-9-04c8cbf3ea73>\u001b[0m in \u001b[0;36m<module>\u001b[0;34m()\u001b[0m\n\u001b[1;32m     21\u001b[0m             \u001b[0;32mif\u001b[0m \u001b[0;32mnot\u001b[0m \u001b[0misinstance\u001b[0m\u001b[0;34m(\u001b[0m\u001b[0mk3\u001b[0m\u001b[0;34m,\u001b[0m \u001b[0mstr\u001b[0m\u001b[0;34m)\u001b[0m\u001b[0;34m:\u001b[0m\u001b[0;34m\u001b[0m\u001b[0m\n\u001b[1;32m     22\u001b[0m                 \u001b[0mprint\u001b[0m\u001b[0;34m(\u001b[0m\u001b[0;34m\"not string k3: \"\u001b[0m\u001b[0;34m,\u001b[0m\u001b[0mk3\u001b[0m\u001b[0;34m.\u001b[0m\u001b[0mkeys\u001b[0m\u001b[0;34m(\u001b[0m\u001b[0;34m)\u001b[0m\u001b[0;34m)\u001b[0m\u001b[0;34m\u001b[0m\u001b[0m\n\u001b[0;32m---> 23\u001b[0;31m             \u001b[0mdata\u001b[0m \u001b[0;34m=\u001b[0m \u001b[0mlist\u001b[0m\u001b[0;34m(\u001b[0m\u001b[0mf\u001b[0m\u001b[0;34m[\u001b[0m\u001b[0mk1\u001b[0m\u001b[0;34m]\u001b[0m\u001b[0;34m[\u001b[0m\u001b[0mk2\u001b[0m\u001b[0;34m]\u001b[0m\u001b[0;34m[\u001b[0m\u001b[0mk3\u001b[0m\u001b[0;34m]\u001b[0m\u001b[0;34m)\u001b[0m\u001b[0;34m\u001b[0m\u001b[0m\n\u001b[0m\u001b[1;32m     24\u001b[0m             \u001b[0mlength\u001b[0m \u001b[0;34m=\u001b[0m \u001b[0mlen\u001b[0m\u001b[0;34m(\u001b[0m\u001b[0mdata\u001b[0m\u001b[0;34m)\u001b[0m\u001b[0;34m\u001b[0m\u001b[0m\n\u001b[1;32m     25\u001b[0m             \u001b[0mprint\u001b[0m\u001b[0;34m(\u001b[0m\u001b[0mlength\u001b[0m\u001b[0;34m)\u001b[0m\u001b[0;34m\u001b[0m\u001b[0m\n",
      "\u001b[0;32m/usr/lib/python3/dist-packages/h5py/_hl/dataset.py\u001b[0m in \u001b[0;36m__iter__\u001b[0;34m(self)\u001b[0m\n\u001b[1;32m    392\u001b[0m         \u001b[0mshape\u001b[0m \u001b[0;34m=\u001b[0m \u001b[0mself\u001b[0m\u001b[0;34m.\u001b[0m\u001b[0mshape\u001b[0m\u001b[0;34m\u001b[0m\u001b[0m\n\u001b[1;32m    393\u001b[0m         \u001b[0;32mif\u001b[0m \u001b[0mlen\u001b[0m\u001b[0;34m(\u001b[0m\u001b[0mshape\u001b[0m\u001b[0;34m)\u001b[0m \u001b[0;34m==\u001b[0m \u001b[0;36m0\u001b[0m\u001b[0;34m:\u001b[0m\u001b[0;34m\u001b[0m\u001b[0m\n\u001b[0;32m--> 394\u001b[0;31m             \u001b[0;32mraise\u001b[0m \u001b[0mTypeError\u001b[0m\u001b[0;34m(\u001b[0m\u001b[0;34m\"Can't iterate over a scalar dataset\"\u001b[0m\u001b[0;34m)\u001b[0m\u001b[0;34m\u001b[0m\u001b[0m\n\u001b[0m\u001b[1;32m    395\u001b[0m         \u001b[0;32mfor\u001b[0m \u001b[0mi\u001b[0m \u001b[0;32min\u001b[0m \u001b[0mxrange\u001b[0m\u001b[0;34m(\u001b[0m\u001b[0mshape\u001b[0m\u001b[0;34m[\u001b[0m\u001b[0;36m0\u001b[0m\u001b[0;34m]\u001b[0m\u001b[0;34m)\u001b[0m\u001b[0;34m:\u001b[0m\u001b[0;34m\u001b[0m\u001b[0m\n\u001b[1;32m    396\u001b[0m             \u001b[0;32myield\u001b[0m \u001b[0mself\u001b[0m\u001b[0;34m[\u001b[0m\u001b[0mi\u001b[0m\u001b[0;34m]\u001b[0m\u001b[0;34m\u001b[0m\u001b[0m\n",
      "\u001b[0;31mTypeError\u001b[0m: Can't iterate over a scalar dataset"
     ]
    }
   ],
   "source": [
    "# Take quantization into consideration\n",
    "import h5py as h5\n",
    "import numpy as np\n",
    "import matplotlib.pyplot as plt\n",
    "import pandas as pd\n",
    "\n",
    "# Read H5 file\n",
    "f = h5.File(\"MLPmodel_1hand.h5\", \"r\")\n",
    "# Get and print list of datasets within the H5 file\n",
    "datasetNames = list(f.keys())\n",
    "\n",
    "content = []\n",
    "\n",
    "for k1 in f:\n",
    "    print(k1)\n",
    "    for k2 in f[k1].keys():\n",
    "        print(k2)\n",
    "        for k3 in f[k1][k2].keys():  \n",
    "            print(k3)\n",
    "            print(\"type: \", type(k3))\n",
    "            if not isinstance(k3, str):\n",
    "                print(\"not string k3: \",k3.keys())\n",
    "            data = list(f[k1][k2][k3])\n",
    "            length = len(data)\n",
    "            print(length)\n",
    "            if not (isinstance(data[0], np.float32)):\n",
    "                for i in range(length):\n",
    "                    data[i] = list(data[i])\n",
    "            content.append(data) \n",
    "\n",
    "            if (isinstance(data[0], np.float32)):\n",
    "                for i in range(length):\n",
    "                    content.append(data[i]) \n",
    "            else:\n",
    "                for i in range(length):\n",
    "                    sub_length = len(data[i])\n",
    "                    sub_data = data[i]\n",
    "                    for j in range(sub_length):\n",
    "#                         print(sub_data[j])\n",
    "                        content.append(sub_data[j])\n",
    "                    \n",
    "                \n",
    "print(\"Total length: \")\n",
    "print(len(content))\n",
    "\n",
    "data = {'params': content}\n",
    "                \n",
    "\n",
    "        \n",
    "\n",
    "\n",
    "\n",
    "\n",
    "\n"
   ]
  },
  {
   "cell_type": "code",
   "execution_count": null,
   "metadata": {},
   "outputs": [],
   "source": []
  },
  {
   "cell_type": "code",
   "execution_count": null,
   "metadata": {},
   "outputs": [],
   "source": []
  }
 ],
 "metadata": {
  "kernelspec": {
   "display_name": "Python 3",
   "language": "python",
   "name": "python3"
  },
  "language_info": {
   "codemirror_mode": {
    "name": "ipython",
    "version": 3
   },
   "file_extension": ".py",
   "mimetype": "text/x-python",
   "name": "python",
   "nbconvert_exporter": "python",
   "pygments_lexer": "ipython3",
   "version": "3.6.5"
  }
 },
 "nbformat": 4,
 "nbformat_minor": 2
}
