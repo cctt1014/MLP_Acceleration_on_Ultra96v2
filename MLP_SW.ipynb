{
 "cells": [
  {
   "cell_type": "code",
   "execution_count": null,
   "metadata": {},
   "outputs": [],
   "source": [
    "import pandas as pd\n",
    "import numpy as np\n",
    "import matplotlib.pyplot as plt\n",
    "import datetime as dt \n",
    "import csv\n",
    "\n",
    "WEIGHTS_01 = 12\n",
    "WEIGHTS_12 = 4\n",
    "WEIGHTS_23 = 2\n",
    "WEIGHTS_34 = 2\n",
    "WEIGHTS_45 = 2\n",
    "WEIGHTS_56 = 4\n",
    "WEIGHTS_67 = 12\n",
    "\n",
    "def mlp():\n",
    "    \n",
    "\n",
    "    \n",
    "    \n"
   ]
  },
  {
   "cell_type": "code",
   "execution_count": null,
   "metadata": {},
   "outputs": [],
   "source": [
    "def main():\n",
    "    "
   ]
  }
 ],
 "metadata": {
  "kernelspec": {
   "display_name": "Python 3",
   "language": "python",
   "name": "python3"
  },
  "language_info": {
   "codemirror_mode": {
    "name": "ipython",
    "version": 3
   },
   "file_extension": ".py",
   "mimetype": "text/x-python",
   "name": "python",
   "nbconvert_exporter": "python",
   "pygments_lexer": "ipython3",
   "version": "3.6.5"
  }
 },
 "nbformat": 4,
 "nbformat_minor": 2
}
