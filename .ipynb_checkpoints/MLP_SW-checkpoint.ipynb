{
 "cells": [
  {
   "cell_type": "code",
   "execution_count": 1,
   "metadata": {},
   "outputs": [],
   "source": [
    "import pandas as pd\n",
    "import numpy as np\n",
    "import matplotlib.pyplot as plt\n",
    "import datetime as dt \n",
    "\n",
    "W01 = 30\n",
    "W12 = 150\n",
    "W23 = 75\n",
    "W34 = 40\n",
    "W45 = 20\n",
    "W56 = 3\n",
    "\n",
    "# Take in params\n",
    "f = open(\"mlpv2.csv\", \"r\")\n",
    "weights = f.read().split(',')\n",
    "for i in range(len(weights)):\n",
    "    weights[i] = float(weights[i])\n",
    "\n",
    "b1 = np.array((WEIGHTS_12))\n",
    "    \n",
    "    \n"
   ]
  },
  {
   "cell_type": "code",
   "execution_count": null,
   "metadata": {},
   "outputs": [],
   "source": [
    "def main():\n",
    "    "
   ]
  }
 ],
 "metadata": {
  "kernelspec": {
   "display_name": "Python 3",
   "language": "python",
   "name": "python3"
  },
  "language_info": {
   "codemirror_mode": {
    "name": "ipython",
    "version": 3
   },
   "file_extension": ".py",
   "mimetype": "text/x-python",
   "name": "python",
   "nbconvert_exporter": "python",
   "pygments_lexer": "ipython3",
   "version": "3.6.5"
  }
 },
 "nbformat": 4,
 "nbformat_minor": 2
}
