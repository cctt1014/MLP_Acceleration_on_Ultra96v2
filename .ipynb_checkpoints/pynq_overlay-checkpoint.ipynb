{
 "cells": [
  {
   "cell_type": "code",
   "execution_count": 1,
   "metadata": {},
   "outputs": [
    {
     "data": {
      "application/javascript": [
       "\n",
       "try {\n",
       "require(['notebook/js/codecell'], function(codecell) {\n",
       "  codecell.CodeCell.options_default.highlight_modes[\n",
       "      'magic_text/x-csrc'] = {'reg':[/^%%microblaze/]};\n",
       "  Jupyter.notebook.events.one('kernel_ready.Kernel', function(){\n",
       "      Jupyter.notebook.get_cells().map(function(cell){\n",
       "          if (cell.cell_type == 'code'){ cell.auto_highlight(); } }) ;\n",
       "  });\n",
       "});\n",
       "} catch (e) {};\n"
      ]
     },
     "metadata": {},
     "output_type": "display_data"
    },
    {
     "data": {
      "application/javascript": [
       "\n",
       "try {\n",
       "require(['notebook/js/codecell'], function(codecell) {\n",
       "  codecell.CodeCell.options_default.highlight_modes[\n",
       "      'magic_text/x-csrc'] = {'reg':[/^%%pybind11/]};\n",
       "  Jupyter.notebook.events.one('kernel_ready.Kernel', function(){\n",
       "      Jupyter.notebook.get_cells().map(function(cell){\n",
       "          if (cell.cell_type == 'code'){ cell.auto_highlight(); } }) ;\n",
       "  });\n",
       "});\n",
       "} catch (e) {};\n"
      ]
     },
     "metadata": {},
     "output_type": "display_data"
    }
   ],
   "source": [
    "from pynq import Overlay\n",
    "import pynq.lib.dma\n",
    "from pynq import Xlnk\n",
    "import numpy as np\n",
    "import csv\n",
    "\n",
    "\n",
    "\n",
    "overlay = Overlay(\"design_1.bit\")\n"
   ]
  },
  {
   "cell_type": "code",
   "execution_count": 2,
   "metadata": {},
   "outputs": [
    {
     "name": "stdout",
     "output_type": "stream",
     "text": [
      "159\n"
     ]
    }
   ],
   "source": [
    "from pynq import allocate\n",
    "from pynq import Overlay\n",
    "\n",
    "WEIGHTS_01 = 12\n",
    "WEIGHTS_12 = 4\n",
    "WEIGHTS_23 = 2\n",
    "WEIGHTS_34 = 2\n",
    "WEIGHTS_45 = 2\n",
    "WEIGHTS_56 = 4\n",
    "WEIGHTS_67 = 12\n",
    "\n",
    "dma = overlay.axi_dma_1\n",
    "\n",
    "b1 = allocate(shape=(WEIGHTS_12,), dtype=np.float32)\n",
    "for i in range(WEIGHTS_12):\n",
    "   b1[i] = 0.0\n",
    "b2 = allocate(shape=(WEIGHTS_23,), dtype=np.float32)\n",
    "for i in range(WEIGHTS_23):\n",
    "   b2[i] = 0.0\n",
    "b3 = allocate(shape=(WEIGHTS_34,), dtype=np.float32)\n",
    "for i in range(WEIGHTS_34):\n",
    "   b3[i] = 0.0\n",
    "b4 = allocate(shape=(WEIGHTS_45,), dtype=np.float32)\n",
    "for i in range(WEIGHTS_45):\n",
    "   b4[i] = 0.0\n",
    "b5 = allocate(shape=(WEIGHTS_56,), dtype=np.float32)\n",
    "for i in range(WEIGHTS_56):\n",
    "   b5[i] = 0.0\n",
    "b6 = allocate(shape=(WEIGHTS_67,), dtype=np.float32)\n",
    "for i in range(WEIGHTS_67):\n",
    "   b6[i] = 0.0\n",
    "\n",
    "\n",
    "w1 = allocate(shape=(WEIGHTS_01*WEIGHTS_12,), dtype=np.float32)\n",
    "w1_arr = [-0.41245085,0.22516125,0.11589861,-0.24505067,\n",
    "      0.11002076,0.35270548,0.34254587,0.25924808,\n",
    "       0.46233064,0.09857297,0.5462083,-0.47065502,\n",
    "       0.45651585,0.22438496,0.37261784,-0.2859464,\n",
    "       0.4596277,-0.15767288,0.10052121,0.56076676,\n",
    "      -0.37306052,0.22188687,0.1600632,0.56628186,\n",
    "      -0.28270358,0.19605273,-0.11205018,0.54035777,\n",
    "       0.5763046,-0.07942265,-0.4533295,0.34143978,\n",
    "      -0.548317,-0.46473745,0.12649375,0.3921774,\n",
    "       0.03707623,0.19918841,0.4153989,-0.2784888,\n",
    "       0.19119453,0.26479918,0.48010808,-0.34708562,\n",
    "      -0.29913658,-0.3335798,-0.24715337,-0.49087512]\n",
    "# for i in range(WEIGHTS_01):\n",
    "#     for j in range(WEIGHTS_12):\n",
    "#         w1[(i+1)*j] = w1_arr[i][j]\n",
    "\n",
    "w2 = allocate(shape=(WEIGHTS_12*WEIGHTS_23,), dtype=np.float32)\n",
    "w2_arr = [-0.7247691,0.83424306,\n",
    "           0.6328485,-0.22648072,\n",
    "          -0.6241925,-0.67744374,\n",
    "           0.06339741,-0.32233238]\n",
    "# for i in range(WEIGHTS_12):\n",
    "#     for j in range(WEIGHTS_23):\n",
    "#         w2[(i+1)*j] = w2_arr[i][j]\n",
    "\n",
    "w3 = allocate(shape=(WEIGHTS_23*WEIGHTS_34,), dtype=np.float32)\n",
    "w3_arr = [ 0.8967639,-0.10948932,\n",
    "           0.52128124,-1.0032749]\n",
    "# for i in range(WEIGHTS_23):\n",
    "#     for j in range(WEIGHTS_34):\n",
    "#         w3[(i+1)*j] = w3_arr[i][j]\n",
    "\n",
    "w4 = allocate(shape=(WEIGHTS_34*WEIGHTS_45,), dtype=np.float32)\n",
    "w4_arr = [0.7461281,1.1210271,\n",
    "          -0.29533046,0.08058226]\n",
    "# for i in range(WEIGHTS_34):\n",
    "#     for j in range(WEIGHTS_45):\n",
    "#         w4[(i+1)*j] = w4_arr[i][j]\n",
    "        \n",
    "w5 = allocate(shape=(WEIGHTS_45*WEIGHTS_56,), dtype=np.float32)\n",
    "w5_arr = [0.7232716,0.46492887,0.13727546,-0.85849357,\n",
    "          0.9019425,0.46246195,0.14621854,0.10324836]\n",
    "# for i in range(WEIGHTS_45):\n",
    "#     for j in range(WEIGHTS_56):\n",
    "#         w5[(i+1)*j] = w5_arr[i][j]\n",
    "        \n",
    "w6 = allocate(shape=(WEIGHTS_56*WEIGHTS_67,), dtype=np.float32)\n",
    "w6_arr = [0.3269753,0.43890828,0.0670464,-0.56078184,-0.58399105,0.32631463,-0.13297594,0.29192322,-0.04009962,0.01939595,-0.42216897,0.00446618,\n",
    "          -0.01774848,0.32369906,0.1884147,0.3623585,0.02849007,0.24431056,-0.3389725,0.3158489,-0.4134146,0.24954021,-0.3896804,0.3793466,\n",
    "          -0.12653378,0.06866544,-0.1537418,-0.2737553,-0.24664617,0.20334506,0.2744798,-0.0114913,-0.41331136,0.3331117,0.12387919,-0.45853123,\n",
    "          -0.5610157,0.23064345,-0.5462209,-0.4053107,0.22898954,0.22120225,-0.29297563,-0.49982366,0.08050495,-0.43193626,0.15595973,0.2584715]\n",
    "\n",
    "# for i in range(WEIGHTS_56):\n",
    "#     for j in range(WEIGHTS_67):\n",
    "#         w6[(i+1)*j] = w6_arr[i][j]\n",
    "\n",
    "        \n",
    "# dummy input\n",
    "in_x = [1.0] * WEIGHTS_67\n",
    "\n",
    "# input_list = (WEIGHTS_12*[0.0]+w1_arr)+(WEIGHTS_23*[0.0]+w2_arr)+(WEIGHTS_34*[0.0]+w3_arr)+(WEIGHTS_45*[0.0]+w4_arr)+(WEIGHTS_56*[0.0]+w5_arr)+(WEIGHTS_67*[0.0]+w6_arr)+in_x\n",
    "input_list = [0.0,0.0,0.0,0.0,-0.41245085,0.22516125,0.11589861,-0.24505067,\n",
    "      0.11002076,0.35270548,0.34254587,0.25924808,\n",
    "       0.46233064,0.09857297,0.5462083,-0.47065502,\n",
    "       0.45651585,0.22438496,0.37261784,-0.2859464,\n",
    "       0.4596277,-0.15767288,0.10052121,0.56076676,\n",
    "      -0.37306052,0.22188687,0.1600632,0.56628186,\n",
    "      -0.28270358,0.19605273,-0.11205018,0.54035777,\n",
    "       0.5763046,-0.07942265,-0.4533295,0.34143978,\n",
    "      -0.548317,-0.46473745,0.12649375,0.3921774,\n",
    "       0.03707623,0.19918841,0.4153989,-0.2784888,\n",
    "       0.19119453,0.26479918,0.48010808,-0.34708562,\n",
    "      -0.29913658,-0.3335798,-0.24715337,-0.49087512,\n",
    "             0.0,0.0,-0.7247691,0.83424306,\n",
    "           0.6328485,-0.22648072,\n",
    "          -0.6241925,-0.67744374,\n",
    "           0.06339741,-0.32233238,\n",
    "             0.0,0.0,0.8967639,-0.10948932,\n",
    "           0.52128124,-1.0032749,\n",
    "             0.0,0.0,0.7461281,1.1210271,\n",
    "          -0.29533046,0.08058226,\n",
    "             0.0,0.0,0.0,0.0,0.7232716,0.46492887,0.13727546,-0.85849357,\n",
    "          0.9019425,0.46246195,0.14621854,0.10324836,\n",
    "             0.0,0.0,0.0,0.0,0.0,0.0,0.0,0.0,0.0,0.0,0.0,0.0,0.3269753,0.43890828,0.0670464,-0.56078184,-0.58399105,0.32631463,-0.13297594,0.29192322,-0.04009962,0.01939595,-0.42216897,0.00446618,\n",
    "          -0.01774848,0.32369906,0.1884147,0.3623585,0.02849007,0.24431056,-0.3389725,0.3158489,-0.4134146,0.24954021,-0.3896804,0.3793466,\n",
    "          -0.12653378,0.06866544,-0.1537418,-0.2737553,-0.24664617,0.20334506,0.2744798,-0.0114913,-0.41331136,0.3331117,0.12387919,-0.45853123,\n",
    "          -0.5610157,0.23064345,-0.5462209,-0.4053107,0.22898954,0.22120225,-0.29297563,-0.49982366,0.08050495,-0.43193626,0.15595973,0.2584715]\n",
    "input_list+=[1.0]*100\n",
    "print(len(input_list))\n",
    "\n",
    "input_buffer = allocate(shape=(158,), dtype=np.float32)\n",
    "for i in range(158):\n",
    "    input_buffer[i] = input_list[i]\n",
    "    \n",
    "res = allocate(shape=(WEIGHTS_67,), dtype=np.float32)\n",
    "\n",
    "\n"
   ]
  },
  {
   "cell_type": "code",
   "execution_count": 3,
   "metadata": {},
   "outputs": [
    {
     "ename": "KeyboardInterrupt",
     "evalue": "",
     "output_type": "error",
     "traceback": [
      "\u001b[0;31m---------------------------------------------------------------------------\u001b[0m",
      "\u001b[0;31mKeyboardInterrupt\u001b[0m                         Traceback (most recent call last)",
      "\u001b[0;32m<ipython-input-3-d7b2174c9bf2>\u001b[0m in \u001b[0;36m<module>\u001b[0;34m()\u001b[0m\n\u001b[1;32m      1\u001b[0m \u001b[0mdma\u001b[0m\u001b[0;34m.\u001b[0m\u001b[0msendchannel\u001b[0m\u001b[0;34m.\u001b[0m\u001b[0mtransfer\u001b[0m\u001b[0;34m(\u001b[0m\u001b[0minput_buffer\u001b[0m\u001b[0;34m)\u001b[0m\u001b[0;34m\u001b[0m\u001b[0m\n\u001b[1;32m      2\u001b[0m \u001b[0mdma\u001b[0m\u001b[0;34m.\u001b[0m\u001b[0mrecvchannel\u001b[0m\u001b[0;34m.\u001b[0m\u001b[0mtransfer\u001b[0m\u001b[0;34m(\u001b[0m\u001b[0mres\u001b[0m\u001b[0;34m)\u001b[0m\u001b[0;34m\u001b[0m\u001b[0m\n\u001b[0;32m----> 3\u001b[0;31m \u001b[0mdma\u001b[0m\u001b[0;34m.\u001b[0m\u001b[0msendchannel\u001b[0m\u001b[0;34m.\u001b[0m\u001b[0mwait\u001b[0m\u001b[0;34m(\u001b[0m\u001b[0;34m)\u001b[0m\u001b[0;34m\u001b[0m\u001b[0m\n\u001b[0m\u001b[1;32m      4\u001b[0m \u001b[0mdma\u001b[0m\u001b[0;34m.\u001b[0m\u001b[0mrecvchannel\u001b[0m\u001b[0;34m.\u001b[0m\u001b[0mwait\u001b[0m\u001b[0;34m(\u001b[0m\u001b[0;34m)\u001b[0m\u001b[0;34m\u001b[0m\u001b[0m\n\u001b[1;32m      5\u001b[0m \u001b[0;34m\u001b[0m\u001b[0m\n",
      "\u001b[0;32m/usr/local/lib/python3.6/dist-packages/pynq/lib/dma.py\u001b[0m in \u001b[0;36mwait\u001b[0;34m(self)\u001b[0m\n\u001b[1;32m    206\u001b[0m         \u001b[0;32mwhile\u001b[0m \u001b[0;32mTrue\u001b[0m\u001b[0;34m:\u001b[0m\u001b[0;34m\u001b[0m\u001b[0m\n\u001b[1;32m    207\u001b[0m             \u001b[0merror\u001b[0m \u001b[0;34m=\u001b[0m \u001b[0mself\u001b[0m\u001b[0;34m.\u001b[0m\u001b[0m_mmio\u001b[0m\u001b[0;34m.\u001b[0m\u001b[0mread\u001b[0m\u001b[0;34m(\u001b[0m\u001b[0mself\u001b[0m\u001b[0;34m.\u001b[0m\u001b[0m_offset\u001b[0m \u001b[0;34m+\u001b[0m \u001b[0;36m4\u001b[0m\u001b[0;34m)\u001b[0m\u001b[0;34m\u001b[0m\u001b[0m\n\u001b[0;32m--> 208\u001b[0;31m             \u001b[0;32mif\u001b[0m \u001b[0mself\u001b[0m\u001b[0;34m.\u001b[0m\u001b[0merror\u001b[0m\u001b[0;34m:\u001b[0m\u001b[0;34m\u001b[0m\u001b[0m\n\u001b[0m\u001b[1;32m    209\u001b[0m                 \u001b[0;32mif\u001b[0m \u001b[0merror\u001b[0m \u001b[0;34m&\u001b[0m \u001b[0;36m0x10\u001b[0m\u001b[0;34m:\u001b[0m\u001b[0;34m\u001b[0m\u001b[0m\n\u001b[1;32m    210\u001b[0m                     raise RuntimeError(\n",
      "\u001b[0;32m/usr/local/lib/python3.6/dist-packages/pynq/lib/dma.py\u001b[0m in \u001b[0;36merror\u001b[0;34m(self)\u001b[0m\n\u001b[1;32m    115\u001b[0m         \"\"\"True if DMA engine is in an error state\n\u001b[1;32m    116\u001b[0m         \"\"\"\n\u001b[0;32m--> 117\u001b[0;31m         \u001b[0;32mreturn\u001b[0m \u001b[0mself\u001b[0m\u001b[0;34m.\u001b[0m\u001b[0m_mmio\u001b[0m\u001b[0;34m.\u001b[0m\u001b[0mread\u001b[0m\u001b[0;34m(\u001b[0m\u001b[0mself\u001b[0m\u001b[0;34m.\u001b[0m\u001b[0m_offset\u001b[0m \u001b[0;34m+\u001b[0m \u001b[0;36m4\u001b[0m\u001b[0;34m)\u001b[0m \u001b[0;34m&\u001b[0m \u001b[0;36m0x70\u001b[0m \u001b[0;34m!=\u001b[0m \u001b[0;36m0x0\u001b[0m\u001b[0;34m\u001b[0m\u001b[0m\n\u001b[0m\u001b[1;32m    118\u001b[0m \u001b[0;34m\u001b[0m\u001b[0m\n\u001b[1;32m    119\u001b[0m     \u001b[0;32mdef\u001b[0m \u001b[0mstart\u001b[0m\u001b[0;34m(\u001b[0m\u001b[0mself\u001b[0m\u001b[0;34m)\u001b[0m\u001b[0;34m:\u001b[0m\u001b[0;34m\u001b[0m\u001b[0m\n",
      "\u001b[0;32m/usr/local/lib/python3.6/dist-packages/pynq/mmio.py\u001b[0m in \u001b[0;36mread\u001b[0;34m(self, offset, length, word_order)\u001b[0m\n\u001b[1;32m    147\u001b[0m         \u001b[0;31m# Read data out\u001b[0m\u001b[0;34m\u001b[0m\u001b[0;34m\u001b[0m\u001b[0m\n\u001b[1;32m    148\u001b[0m         \u001b[0mlsb\u001b[0m \u001b[0;34m=\u001b[0m \u001b[0mint\u001b[0m\u001b[0;34m(\u001b[0m\u001b[0mself\u001b[0m\u001b[0;34m.\u001b[0m\u001b[0marray\u001b[0m\u001b[0;34m[\u001b[0m\u001b[0midx\u001b[0m\u001b[0;34m]\u001b[0m\u001b[0;34m)\u001b[0m\u001b[0;34m\u001b[0m\u001b[0m\n\u001b[0;32m--> 149\u001b[0;31m         \u001b[0;32mif\u001b[0m \u001b[0mlength\u001b[0m \u001b[0;34m==\u001b[0m \u001b[0;36m8\u001b[0m\u001b[0;34m:\u001b[0m\u001b[0;34m\u001b[0m\u001b[0m\n\u001b[0m\u001b[1;32m    150\u001b[0m             \u001b[0;32mif\u001b[0m \u001b[0mword_order\u001b[0m \u001b[0;34m==\u001b[0m \u001b[0;34m'little'\u001b[0m\u001b[0;34m:\u001b[0m\u001b[0;34m\u001b[0m\u001b[0m\n\u001b[1;32m    151\u001b[0m                 \u001b[0;32mreturn\u001b[0m \u001b[0;34m(\u001b[0m\u001b[0;34m(\u001b[0m\u001b[0mint\u001b[0m\u001b[0;34m(\u001b[0m\u001b[0mself\u001b[0m\u001b[0;34m.\u001b[0m\u001b[0marray\u001b[0m\u001b[0;34m[\u001b[0m\u001b[0midx\u001b[0m\u001b[0;34m+\u001b[0m\u001b[0;36m1\u001b[0m\u001b[0;34m]\u001b[0m\u001b[0;34m)\u001b[0m\u001b[0;34m)\u001b[0m \u001b[0;34m<<\u001b[0m \u001b[0;36m32\u001b[0m\u001b[0;34m)\u001b[0m \u001b[0;34m+\u001b[0m \u001b[0mlsb\u001b[0m\u001b[0;34m\u001b[0m\u001b[0m\n",
      "\u001b[0;31mKeyboardInterrupt\u001b[0m: "
     ]
    }
   ],
   "source": [
    "dma.sendchannel.transfer(input_buffer)\n",
    "dma.recvchannel.transfer(res)\n",
    "dma.sendchannel.wait()\n",
    "dma.recvchannel.wait()\n",
    "\n"
   ]
  },
  {
   "cell_type": "code",
   "execution_count": null,
   "metadata": {},
   "outputs": [],
   "source": []
  }
 ],
 "metadata": {
  "kernelspec": {
   "display_name": "Python 3",
   "language": "python",
   "name": "python3"
  },
  "language_info": {
   "codemirror_mode": {
    "name": "ipython",
    "version": 3
   },
   "file_extension": ".py",
   "mimetype": "text/x-python",
   "name": "python",
   "nbconvert_exporter": "python",
   "pygments_lexer": "ipython3",
   "version": "3.6.5"
  }
 },
 "nbformat": 4,
 "nbformat_minor": 2
}
